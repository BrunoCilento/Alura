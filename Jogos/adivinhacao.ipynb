{
 "cells": [
  {
   "cell_type": "code",
   "execution_count": 44,
   "metadata": {},
   "outputs": [
    {
     "name": "stdout",
     "output_type": "stream",
     "text": [
      "*********************************\n",
      "Bem vindo ao jogo de Adivinhação!\n",
      "*********************************\n",
      "Tentativa 1 de 3\n",
      "Digite um número entre 1 e 100: \n",
      "Você digitou  1\n",
      "Você errou para baixo\n",
      "Tentativa 2 de 3\n",
      "Digite um número entre 1 e 100: \n",
      "Você digitou  0\n",
      "Você deve digitar um número entre 1 e 100!!\n",
      "Você errou para baixo\n",
      "Tentativa 3 de 3\n",
      "Digite um número entre 1 e 100: \n",
      "Você digitou  15\n",
      "Você errou para baixo\n",
      "Fim do jogo\n"
     ]
    }
   ],
   "source": [
    "print(\"*********************************\")\n",
    "print(\"Bem vindo ao jogo de Adivinhação!\")\n",
    "print(\"*********************************\")\n",
    "\n",
    "numero_secreto = 42\n",
    "total_de_tentativas = 3\n",
    "\n",
    "for rodada in range(1, total_de_tentativas + 1):\n",
    "    print(f\"Tentativa {rodada} de {total_de_tentativas}\")\n",
    "    print(\"Digite um número entre 1 e 100: \")\n",
    "    chute_str = input()\n",
    "    print(\"Você digitou \", chute_str)\n",
    "    chute_int = int(chute_str)\n",
    "\n",
    "    if(chute_int < 1 or chute_int > 100):\n",
    "        print(\"Você deve digitar um número entre 1 e 100!!\")\n",
    "\n",
    "    acertou = chute_int == numero_secreto\n",
    "    maior = chute_int > numero_secreto\n",
    "    menor = chute_int < numero_secreto\n",
    "\n",
    "    if(acertou):\n",
    "        print(\"Parabéns você acertou!!!!!! :)\")\n",
    "        break\n",
    "    else:\n",
    "        if(maior):\n",
    "            print(\"Você errou para cima\")\n",
    "        elif(menor):\n",
    "            print(\"Você errou para baixo\")\n",
    "\n",
    "print(\"Fim do jogo\")"
   ]
  },
  {
   "cell_type": "code",
   "execution_count": null,
   "metadata": {},
   "outputs": [],
   "source": [
    "print(\"Testando {0} {0} {1} {1}\".format(1,2))"
   ]
  },
  {
   "cell_type": "code",
   "execution_count": 1,
   "metadata": {},
   "outputs": [
    {
     "data": {
      "text/plain": [
       "1"
      ]
     },
     "execution_count": 1,
     "metadata": {},
     "output_type": "execute_result"
    }
   ],
   "source": [
    "3 // 2"
   ]
  },
  {
   "cell_type": "code",
   "execution_count": 1,
   "metadata": {},
   "outputs": [
    {
     "data": {
      "text/plain": [
       "5"
      ]
     },
     "execution_count": 1,
     "metadata": {},
     "output_type": "execute_result"
    }
   ],
   "source": [
    "len(\"bruno\")"
   ]
  },
  {
   "cell_type": "code",
   "execution_count": 17,
   "metadata": {},
   "outputs": [
    {
     "data": {
      "text/plain": [
       "3"
      ]
     },
     "execution_count": 17,
     "metadata": {},
     "output_type": "execute_result"
    }
   ],
   "source": [
    "gabarito = [[1,2,3],[1,2,3]]\n",
    "gabarito[0][2]"
   ]
  },
  {
   "cell_type": "code",
   "execution_count": 5,
   "metadata": {},
   "outputs": [
    {
     "name": "stdout",
     "output_type": "stream",
     "text": [
      "b r u n o "
     ]
    }
   ],
   "source": [
    "for letra in \"bruno\":\n",
    "    print(letra, end = \" \")"
   ]
  },
  {
   "cell_type": "code",
   "execution_count": 21,
   "metadata": {},
   "outputs": [
    {
     "data": {
      "text/plain": [
       "2"
      ]
     },
     "execution_count": 21,
     "metadata": {},
     "output_type": "execute_result"
    }
   ],
   "source": [
    "gabarito = []\n",
    "gabarito.append([1,2])\n",
    "gabarito.append([3,4,5])\n",
    "len(gabarito)\n",
    "#print(gabarito)"
   ]
  },
  {
   "cell_type": "code",
   "execution_count": 17,
   "metadata": {},
   "outputs": [
    {
     "name": "stdout",
     "output_type": "stream",
     "text": [
      "\u001b[41m2\n"
     ]
    }
   ],
   "source": [
    "from colorama import Fore, Back, Style\n",
    "teste = 2\n",
    "print(Back.RED + str(teste))"
   ]
  },
  {
   "cell_type": "code",
   "execution_count": null,
   "metadata": {},
   "outputs": [],
   "source": []
  }
 ],
 "metadata": {
  "interpreter": {
   "hash": "b89b5cfaba6639976dc87ff2fec6d58faec662063367e2c229c520fe71072417"
  },
  "kernelspec": {
   "display_name": "Python 3.10.1 64-bit",
   "language": "python",
   "name": "python3"
  },
  "language_info": {
   "codemirror_mode": {
    "name": "ipython",
    "version": 3
   },
   "file_extension": ".py",
   "mimetype": "text/x-python",
   "name": "python",
   "nbconvert_exporter": "python",
   "pygments_lexer": "ipython3",
   "version": "3.10.1"
  },
  "orig_nbformat": 4
 },
 "nbformat": 4,
 "nbformat_minor": 2
}
