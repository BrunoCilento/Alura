{
 "cells": [
  {
   "cell_type": "code",
   "execution_count": 1,
   "id": "e83542bf-6885-4547-953a-4ba1b3b6e518",
   "metadata": {},
   "outputs": [
    {
     "name": "stdout",
     "output_type": "stream",
     "text": [
      "*********************************\n",
      "Bem vindo ao jogo de Adivinhação!\n",
      "*********************************\n",
      "Qual o nível de dificuldade?\n",
      "(1) Fácil (2) Médio (3) Difícil\n"
     ]
    },
    {
     "name": "stdin",
     "output_type": "stream",
     "text": [
      "Escolha o nível de dificuldade:  1\n"
     ]
    },
    {
     "name": "stdout",
     "output_type": "stream",
     "text": [
      "Tentativa 1 de 20\n"
     ]
    },
    {
     "name": "stdin",
     "output_type": "stream",
     "text": [
      "Digite um número entre 1 e 100:  50\n"
     ]
    },
    {
     "name": "stdout",
     "output_type": "stream",
     "text": [
      "Você digitou  50\n",
      "Você errou para baixo\n",
      "Tentativa 2 de 20\n"
     ]
    },
    {
     "name": "stdin",
     "output_type": "stream",
     "text": [
      "Digite um número entre 1 e 100:  60\n"
     ]
    },
    {
     "name": "stdout",
     "output_type": "stream",
     "text": [
      "Você digitou  60\n",
      "Você errou para baixo\n",
      "Tentativa 3 de 20\n"
     ]
    },
    {
     "name": "stdin",
     "output_type": "stream",
     "text": [
      "Digite um número entre 1 e 100:  70\n"
     ]
    },
    {
     "name": "stdout",
     "output_type": "stream",
     "text": [
      "Você digitou  70\n",
      "Você errou para cima\n",
      "Tentativa 4 de 20\n"
     ]
    },
    {
     "name": "stdin",
     "output_type": "stream",
     "text": [
      "Digite um número entre 1 e 100:  65\n"
     ]
    },
    {
     "name": "stdout",
     "output_type": "stream",
     "text": [
      "Você digitou  65\n",
      "Você errou para baixo\n",
      "Tentativa 5 de 20\n"
     ]
    },
    {
     "name": "stdin",
     "output_type": "stream",
     "text": [
      "Digite um número entre 1 e 100:  66\n"
     ]
    },
    {
     "name": "stdout",
     "output_type": "stream",
     "text": [
      "Você digitou  66\n",
      "Parabéns você acertou e fez 973 pontos :)\n",
      "*********************************\n",
      "Fim de jogo!\n",
      "*********************************\n"
     ]
    }
   ],
   "source": [
    "import random\n",
    "\n",
    "def jogar():\n",
    "\n",
    "    print(\"*********************************\")\n",
    "    print(\"Bem vindo ao jogo de Adivinhação!\")\n",
    "    print(\"*********************************\")\n",
    "\n",
    "    numero_secreto = random.randrange(1,101)\n",
    "    total_de_tentativas = 0\n",
    "    pontos = 1000\n",
    "\n",
    "    print(\"Qual o nível de dificuldade?\")\n",
    "    print(\"(1) Fácil (2) Médio (3) Difícil\")\n",
    "    nivel = int(input(\"Escolha o nível de dificuldade: \"))\n",
    "\n",
    "    if(nivel == 1):\n",
    "        total_de_tentativas = 20\n",
    "    elif(nivel == 2):\n",
    "        total_de_tentativas = 10\n",
    "    else:\n",
    "        total_de_tentativas = 5\n",
    "\n",
    "\n",
    "    for rodada in range(1, total_de_tentativas + 1):\n",
    "        print(f\"Tentativa {rodada} de {total_de_tentativas}\")\n",
    "        chute_str = input(\"Digite um número entre 1 e 100: \")\n",
    "        print(\"Você digitou \", chute_str)\n",
    "        chute_int = int(chute_str)\n",
    "\n",
    "        if(chute_int < 1 or chute_int > 100):\n",
    "            print(\"Você deve digitar um número entre 1 e 100!!\")\n",
    "            continue\n",
    "\n",
    "        acertou = chute_int == numero_secreto\n",
    "        maior = chute_int > numero_secreto\n",
    "        menor = chute_int < numero_secreto\n",
    "\n",
    "        if(acertou):\n",
    "            print(f\"Parabéns você acertou e fez {pontos} pontos :)\")\n",
    "            break\n",
    "        else:\n",
    "            if(rodada == total_de_tentativas):\n",
    "                print(f\"O número secreto era {numero_secreto}\")\n",
    "                break\n",
    "            if(maior):\n",
    "                print(\"Você errou para cima\")\n",
    "            elif(menor):\n",
    "                print(\"Você errou para baixo\")\n",
    "        pontos_perdidos = abs(numero_secreto - chute_int)\n",
    "        pontos = pontos - pontos_perdidos\n",
    "\n",
    "    print(\"*********************************\")\n",
    "    print(\"Fim de jogo!\")\n",
    "    print(\"*********************************\")\n",
    "\n",
    "if(__name__ == \"__main__\"):\n",
    "    jogar()"
   ]
  },
  {
   "cell_type": "code",
   "execution_count": null,
   "id": "8c156321-b135-4a7d-b0fc-893d8012c367",
   "metadata": {},
   "outputs": [],
   "source": []
  }
 ],
 "metadata": {
  "kernelspec": {
   "display_name": "Python 3 (ipykernel)",
   "language": "python",
   "name": "python3"
  },
  "language_info": {
   "codemirror_mode": {
    "name": "ipython",
    "version": 3
   },
   "file_extension": ".py",
   "mimetype": "text/x-python",
   "name": "python",
   "nbconvert_exporter": "python",
   "pygments_lexer": "ipython3",
   "version": "3.8.12"
  }
 },
 "nbformat": 4,
 "nbformat_minor": 5
}
